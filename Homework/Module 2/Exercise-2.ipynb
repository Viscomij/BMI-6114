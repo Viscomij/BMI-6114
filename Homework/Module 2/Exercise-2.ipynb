{
 "cells": [
  {
   "cell_type": "markdown",
   "id": "64deb005-9478-4bae-8568-e03828daefe4",
   "metadata": {
    "tags": []
   },
   "source": [
    "# Exercise 02"
   ]
  },
  {
   "cell_type": "code",
   "execution_count": 1,
   "id": "faa360e9-c7d2-4810-8f0e-01c6a606f3f0",
   "metadata": {},
   "outputs": [],
   "source": [
    "import pandas as pd\n",
    "import torch\n",
    "import torch.nn as nn\n",
    "import matplotlib.pyplot as plt"
   ]
  },
  {
   "cell_type": "markdown",
   "id": "9e3dfc5a-9d34-4bfe-9938-b56baaa4e02a",
   "metadata": {
    "tags": []
   },
   "source": [
    "**Can an MLP solve the XOR problem?** The purpose of this exercise is to find that out."
   ]
  },
  {
   "cell_type": "markdown",
   "id": "b368fce2-731b-4a21-b975-d7bbe0459424",
   "metadata": {},
   "source": [
    "* **(2 points)** Set PyTorch's random seed to 21"
   ]
  },
  {
   "cell_type": "code",
   "execution_count": 2,
   "id": "0827f95f-85a1-4a77-92f0-bffed4fbbd06",
   "metadata": {
    "tags": []
   },
   "outputs": [],
   "source": [
    "# TODO"
   ]
  },
  {
   "cell_type": "markdown",
   "id": "7f1325d6-5f2a-4421-8298-69eb20ffd119",
   "metadata": {},
   "source": [
    "* **(8 points)** Generate the following:\n",
    "    * An input tensor named `X` with a `(500, 2)` shape whose elements are uniformly distributed between -1 and +1\n",
    "    * An output tensor named `y` whose values are all ones and whose length is the same as `X`\n",
    "  \n",
    "  Print/show the shapes of both tensors."
   ]
  },
  {
   "cell_type": "code",
   "execution_count": 3,
   "id": "a45e9a64-8458-46a4-a4ab-425c699cda67",
   "metadata": {},
   "outputs": [],
   "source": [
    "# TODO"
   ]
  },
  {
   "cell_type": "markdown",
   "id": "90544eba-7255-401f-9857-fb7b9df0f756",
   "metadata": {},
   "source": [
    "* **(5 points)** For every example (row) in `X`, if $x_1 \\times x_2 < 0$, then change its corresponding `y` value from 1 to 0. Reshape `y` to a `(500, 1)` tensor and convert it to `float32`. Print/show the new shape and data type of `y."
   ]
  },
  {
   "cell_type": "code",
   "execution_count": 4,
   "id": "3f47ccbf-b344-4040-997f-e5e271d4d96f",
   "metadata": {},
   "outputs": [],
   "source": [
    "# TODO"
   ]
  },
  {
   "cell_type": "markdown",
   "id": "1c55504a-fdd4-4467-beaf-62679818514f",
   "metadata": {},
   "source": [
    "* **(3 points)** Join the above `X` and `y` tensors into a `torch.utils.data.TensorDataset` . Display its length."
   ]
  },
  {
   "cell_type": "code",
   "execution_count": 5,
   "id": "c4666257-55d9-49b3-be30-47dfba4d6893",
   "metadata": {},
   "outputs": [],
   "source": [
    "# TODO"
   ]
  },
  {
   "cell_type": "markdown",
   "id": "6d53dfe6-ca8e-4d77-b56a-f1c5ff9e9833",
   "metadata": {},
   "source": [
    "* **(6 points)** Split the dataset above into training, validation, and testing sets using a 60/20/20 ratio."
   ]
  },
  {
   "cell_type": "code",
   "execution_count": 6,
   "id": "dd4b9036-027c-4e08-9f23-569ac0746b08",
   "metadata": {},
   "outputs": [],
   "source": [
    "# TODO"
   ]
  },
  {
   "cell_type": "markdown",
   "id": "b3e406ba-b2dc-4838-8254-f4549bf9a616",
   "metadata": {},
   "source": [
    "* **(4 points)** Create data loaders for each of these datasets, each with a batch size of 8."
   ]
  },
  {
   "cell_type": "code",
   "execution_count": 7,
   "id": "46d30f9c-2662-44d2-889a-0e7477977e34",
   "metadata": {},
   "outputs": [],
   "source": [
    "# TODO"
   ]
  },
  {
   "cell_type": "markdown",
   "id": "13e8fa60-19db-49ac-877e-49ea43020cb9",
   "metadata": {},
   "source": [
    "* **(6 points)** Create a scatter plot of the first column of the training input data against the second column, and color the points based on their corresponding output values."
   ]
  },
  {
   "cell_type": "code",
   "execution_count": 8,
   "id": "167db6de-140f-41d6-a5eb-2588b210fa06",
   "metadata": {},
   "outputs": [],
   "source": [
    "# TODO"
   ]
  },
  {
   "cell_type": "markdown",
   "id": "b5fdffe6-e8e1-43b2-9455-60ce1f362869",
   "metadata": {},
   "source": [
    "* **(4 points)** Given the data, what kind of problem is this? Regression, binary classification, or multiclass classification?"
   ]
  },
  {
   "cell_type": "raw",
   "id": "9e31ad55-65c8-4068-8fa0-73be13c2d908",
   "metadata": {},
   "source": [
    "TODO"
   ]
  },
  {
   "cell_type": "markdown",
   "id": "49b90e66-198b-4a10-8e8e-e3bb5e8dd663",
   "metadata": {},
   "source": [
    "* **(12 points)** Subclass `nn.Module` to create a class named `XORMLPClassifier` that implements an MLP with two hidden layers for classifying this data. Experiment with the number of units on these hidden layers (8, 16, 24, etc.). Use the ReLU activation function on the hidden layers and the sigmoid function on the output layer. Use this new class to create a model."
   ]
  },
  {
   "cell_type": "code",
   "execution_count": 9,
   "id": "98b8825f-0ba3-436e-85f8-26eb9bc89ada",
   "metadata": {},
   "outputs": [],
   "source": [
    "# TODO"
   ]
  },
  {
   "cell_type": "markdown",
   "id": "0064a1f1-6a9a-4015-a957-021ce84bfe80",
   "metadata": {},
   "source": [
    "* **(4 points)** Summarize and plot this model."
   ]
  },
  {
   "cell_type": "code",
   "execution_count": 10,
   "id": "29c8b49a-37f5-4ed1-9cd1-ace736b25f82",
   "metadata": {
    "tags": []
   },
   "outputs": [],
   "source": [
    "# TODO"
   ]
  },
  {
   "cell_type": "code",
   "execution_count": 11,
   "id": "ffa5dbd5-0290-4325-ba26-15d8d3406c7d",
   "metadata": {},
   "outputs": [],
   "source": [
    "# TODO"
   ]
  },
  {
   "cell_type": "markdown",
   "id": "73fe6f92-9cae-4a01-b565-dfc80003ab43",
   "metadata": {},
   "source": [
    "* **(6 points)** Specify the appropriate loss function and optimizer, and feel free to experiment with different optimizers."
   ]
  },
  {
   "cell_type": "code",
   "execution_count": 12,
   "id": "18133b6e-7cb6-4029-b6e6-75d40807a1a3",
   "metadata": {},
   "outputs": [],
   "source": [
    "# TODO"
   ]
  },
  {
   "cell_type": "markdown",
   "id": "87659314-52f6-4b5a-a31c-71e43276f1be",
   "metadata": {},
   "source": [
    "* **(20 points)** Implement the training loop with both training and validation steps. During the training step, save the training loss and  accuracy into a history dictionary. Similarly, in the validation step, save the validation loss and accuracy. Display these losses and accuracies every 10 epochs. Experiment with the number of epochs, optimizers, etc., until you achieve a 'good' performance (> 90%). Use a threshold of 0.5: if the predicted probability is less than 0.5, the predicted label is 0; otherwise, it is 1."
   ]
  },
  {
   "cell_type": "code",
   "execution_count": 13,
   "id": "7ea64b9e-2511-486b-883b-a3eb4dd77de9",
   "metadata": {},
   "outputs": [],
   "source": [
    "# TODO"
   ]
  },
  {
   "cell_type": "markdown",
   "id": "524f51dd-07b3-4701-bfc4-b2a25d1d43c5",
   "metadata": {},
   "source": [
    "* **(5 points)** Plot the learning curves for training and validation losses as well as accuracies using the history dictionary from the above training loop."
   ]
  },
  {
   "cell_type": "code",
   "execution_count": 14,
   "id": "46a7fa58-77cf-4578-9906-1d42a208793a",
   "metadata": {},
   "outputs": [],
   "source": [
    "# TODO"
   ]
  },
  {
   "cell_type": "markdown",
   "id": "fdd3bfc8-6226-4d2b-87c6-9b2a3473d0ed",
   "metadata": {},
   "source": [
    "* **(5 points)** Evaluate the trained model using the test dataset, manually calculate the testing accuracy, and then display the result."
   ]
  },
  {
   "cell_type": "code",
   "execution_count": 15,
   "id": "ede8ffda-d1db-4171-87cf-cb1f4e783ad2",
   "metadata": {},
   "outputs": [],
   "source": [
    "# TODO"
   ]
  },
  {
   "cell_type": "markdown",
   "id": "f075f4fc-a58a-4c9e-bb6f-39840bd6b5c3",
   "metadata": {},
   "source": [
    "* **(10 points)** Plot the decision regions of this model using the testing dataset. You can utilize (and adjust) the `plot_decision_regions` function from the `04.introduction_to_pytorch_modules.ipynb` handout. Make sure to use the same `0.5` threshold for decision boundary classification."
   ]
  },
  {
   "cell_type": "code",
   "execution_count": 16,
   "id": "28432a18-a095-4114-ad12-3b818cf34373",
   "metadata": {},
   "outputs": [],
   "source": [
    "# TODO"
   ]
  }
 ],
 "metadata": {
  "kernelspec": {
   "display_name": "Python 3 (ipykernel)",
   "language": "python",
   "name": "python3"
  },
  "language_info": {
   "codemirror_mode": {
    "name": "ipython",
    "version": 3
   },
   "file_extension": ".py",
   "mimetype": "text/x-python",
   "name": "python",
   "nbconvert_exporter": "python",
   "pygments_lexer": "ipython3",
   "version": "3.11.5"
  }
 },
 "nbformat": 4,
 "nbformat_minor": 5
}
