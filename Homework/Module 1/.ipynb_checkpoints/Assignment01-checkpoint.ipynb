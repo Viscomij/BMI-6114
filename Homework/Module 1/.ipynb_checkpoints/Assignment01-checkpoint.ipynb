{
 "cells": [
  {
   "cell_type": "markdown",
   "metadata": {},
   "source": [
    "# Assignment 01\n",
    "\n",
    "In this assignment, you will be using Sci-kit Learn to train and compare three models using the Cleveland heart disease data set from the UC Irvine Machine Learning Repository."
   ]
  },
  {
   "cell_type": "code",
   "execution_count": 1,
   "metadata": {},
   "outputs": [],
   "source": [
    "import numpy as np\n",
    "import pandas as pd\n",
    "import matplotlib.pyplot as plt"
   ]
  },
  {
   "cell_type": "markdown",
   "metadata": {},
   "source": [
    "## Fetching and pre-processing data\n",
    "\n",
    "* **(10 points)** Fetch the Cleveland heart disease from the [UC Irvine Machine Learning Repository](https://archive.ics.uci.edu/ml/datasets/heart+disease). Load that data into a NumPy array."
   ]
  },
  {
   "cell_type": "code",
   "execution_count": 2,
   "metadata": {},
   "outputs": [
    {
     "data": {
      "text/plain": [
       "array([[63.,  1.,  1., ...,  0.,  6.,  0.],\n",
       "       [67.,  1.,  4., ...,  3.,  3.,  2.],\n",
       "       [67.,  1.,  4., ...,  2.,  7.,  1.],\n",
       "       ...,\n",
       "       [57.,  1.,  4., ...,  1.,  7.,  3.],\n",
       "       [57.,  0.,  2., ...,  1.,  3.,  1.],\n",
       "       [38.,  1.,  3., ..., nan,  3.,  0.]])"
      ]
     },
     "execution_count": 2,
     "metadata": {},
     "output_type": "execute_result"
    }
   ],
   "source": [
    "# From UCI Documentation:\n",
    "\n",
    "#%pip install ucimlrepo\n",
    "from ucimlrepo import fetch_ucirepo \n",
    "  \n",
    "# fetch dataset \n",
    "heart_disease = fetch_ucirepo(id=45) \n",
    "  \n",
    "# data (as pandas dataframes) \n",
    "X = heart_disease.data.features \n",
    "y = heart_disease.data.targets \n",
    "####################################\n",
    "\n",
    "#take dataframe, merge, and convert to Numpy Array\n",
    "merged = pd.concat([X,y], axis = 1)\n",
    "heart_dis = merged.to_numpy()\n",
    "\n",
    "heart_dis"
   ]
  },
  {
   "cell_type": "markdown",
   "metadata": {},
   "source": [
    "* **(6 points)** This dataset has missing values that will need to be handled. The simplest strategy is to remove all examples containing one or more missing values. Apply that strategy to this data."
   ]
  },
  {
   "cell_type": "code",
   "execution_count": 3,
   "metadata": {},
   "outputs": [
    {
     "name": "stdout",
     "output_type": "stream",
     "text": [
      "Original length: 303\n",
      "New length: 297\n"
     ]
    }
   ],
   "source": [
    "#to do this, we will locate the indeces of any rows with NaN values, and filter to the opposite (using '~')\n",
    "print(f'Original length: {len(heart_dis)}') \n",
    "heart_dis = heart_dis[~np.isnan(heart_dis).any(axis = 1)]\n",
    "print(f'New length: {len(heart_dis)}')"
   ]
  },
  {
   "cell_type": "markdown",
   "metadata": {},
   "source": [
    "* **(8 points)** The original output column has five classes (0 for the absence of heart disease and 1, 2, 3, 4 for different kinds of it). Rec-ode this column such that it only has two classes: 0 for the absence of the disease and 1 for the presence of it. In other words, the values (1, 2, 3, 4) should all be coded as 1. This will result in a more balanced data set."
   ]
  },
  {
   "cell_type": "code",
   "execution_count": 4,
   "metadata": {},
   "outputs": [
    {
     "data": {
      "text/plain": [
       "(array([0., 1.]), array([160, 137]))"
      ]
     },
     "execution_count": 4,
     "metadata": {},
     "output_type": "execute_result"
    }
   ],
   "source": [
    "#Steps: select target column, use where() and isin() to change 2,3,4 to 1 and keep 1 and 0 as-is.\n",
    "heart_dis[:,-1] = np.where(np.isin(heart_dis[:,-1], [2,3,4]),1,heart_dis[:,-1])\n",
    "np.unique(heart_dis[:,-1], return_counts = True)"
   ]
  },
  {
   "cell_type": "markdown",
   "metadata": {},
   "source": [
    "* **(6 points)** Split the data set into two portions: 20% for testing and the rest for training."
   ]
  },
  {
   "cell_type": "code",
   "execution_count": 5,
   "metadata": {},
   "outputs": [
    {
     "name": "stdout",
     "output_type": "stream",
     "text": [
      "train length: 237\n",
      "test length: 60\n"
     ]
    }
   ],
   "source": [
    "#let's first shuffle (for good luck)\n",
    "np.random.shuffle(heart_dis)\n",
    "\n",
    "#now let's do our 80/20 split\n",
    "\n",
    "#calc index\n",
    "split = int(.8*len(heart_dis)) #cast as int to not cause issues with splitting\n",
    "\n",
    "#slice array\n",
    "heart_dis_train = heart_dis[:split]\n",
    "heart_dis_test = heart_dis[split:]\n",
    "\n",
    "print(f'train length: {len(heart_dis_train)}')\n",
    "print(f'test length: {len(heart_dis_test)}')"
   ]
  },
  {
   "cell_type": "markdown",
   "metadata": {
    "tags": []
   },
   "source": [
    "* **(8 points)** Using the training data, normalize the input features of both the training and test sets."
   ]
  },
  {
   "cell_type": "code",
   "execution_count": 6,
   "metadata": {
    "tags": []
   },
   "outputs": [
    {
     "name": "stdout",
     "output_type": "stream",
     "text": [
      "train set: [[0.375      1.         0.66666667 0.41509434 0.29908676 0.\n",
      "  1.         0.59649123 0.         0.         0.         0.\n",
      "  0.        ]\n",
      " [0.27083333 1.         1.         0.43396226 0.2283105  0.\n",
      "  0.         0.78947368 0.         0.         0.         0.\n",
      "  0.        ]\n",
      " [0.77083333 0.         1.         0.79245283 0.23287671 1.\n",
      "  0.         0.6754386  1.         0.17857143 0.5        0.66666667\n",
      "  1.        ]\n",
      " [0.64583333 1.         1.         0.33962264 0.28995434 0.\n",
      "  0.         0.49122807 1.         0.25       0.         0.33333333\n",
      "  1.        ]\n",
      " [0.375      1.         0.66666667 0.33962264 0.28995434 0.\n",
      "  0.         0.79824561 0.         0.         0.         0.\n",
      "  0.        ]]\n",
      "\n",
      "test set: [[0.22916667 1.         0.         0.43396226 0.16666667 0.\n",
      "  0.         0.78947368 1.         0.25       0.         0.\n",
      "  1.        ]\n",
      " [0.58333333 1.         0.33333333 0.56603774 0.24200913 0.\n",
      "  1.         0.66666667 0.         0.         0.         0.33333333\n",
      "  0.        ]\n",
      " [0.47916667 1.         0.         0.22641509 0.1369863  0.\n",
      "  1.         0.89473684 0.         0.         0.5        0.\n",
      "  0.75      ]\n",
      " [0.60416667 1.         1.         0.32075472 0.30365297 0.\n",
      "  1.         0.36842105 1.         0.53571429 0.5        0.66666667\n",
      "  1.        ]\n",
      " [0.52083333 1.         0.66666667 0.52830189 0.24200913 0.\n",
      "  1.         0.6754386  0.         0.28571429 0.         0.\n",
      "  1.        ]]\n"
     ]
    }
   ],
   "source": [
    "train_X = heart_dis_train[:,:-1] #store all training set input features in variable for min and max \n",
    "test_X =  heart_dis_train[:,:-1] #store all testing set input features in variable for min and max \n",
    "\n",
    "#get min and max across each row \n",
    "train_min = train_X.min(axis = 0)\n",
    "train_max = train_X.max(axis = 0)\n",
    "\n",
    "#repeat for testing set\n",
    "test_min = test_X.min(axis = 0)\n",
    "test_max = test_X.max(axis = 0)\n",
    "\n",
    "heart_dis_train[:,:-1] = (heart_dis_train[:,:-1] - train_min)/(train_max - train_min) #normalize training set\n",
    "heart_dis_test[:,:-1] = (heart_dis_test[:,:-1] - test_min)/(test_max - test_min) #normalize testing set\n",
    "\n",
    "print(f'train set: {heart_dis_train[:5,:-1]}')\n",
    "print()\n",
    "print(f'test set: {heart_dis_test[:5,:-1]}')"
   ]
  },
  {
   "attachments": {},
   "cell_type": "markdown",
   "metadata": {},
   "source": [
    "## Training and comparing models\n",
    "Using the above pre-processed data, train the following three models:"
   ]
  },
  {
   "cell_type": "markdown",
   "metadata": {},
   "source": [
    "* **(12 points)** Random forests. Use grid search to find best values of both n_estimators and max-depth parameters. Print/plot the features along with their importance."
   ]
  },
  {
   "cell_type": "code",
   "execution_count": 7,
   "metadata": {},
   "outputs": [],
   "source": [
    "#Step 1: import libraries from RF and Gridsearch\n",
    "from sklearn.ensemble import RandomForestClassifier\n",
    "from sklearn.model_selection import GridSearchCV "
   ]
  },
  {
   "cell_type": "code",
   "execution_count": 18,
   "metadata": {},
   "outputs": [],
   "source": [
    "#Step 2: Split Training/Testing set, initialize model, set up parameter grid\n",
    "\n",
    "X_train = heart_dis_train[:,:-1] #X: all rows, all columns except last\n",
    "y_train = heart_dis_train[:,-1] #y: all rows, only last column\n",
    "\n",
    "rf = RandomForestClassifier(random_state = 42) #use random_state for reprodutibility\n",
    "\n",
    "param_grid = {\n",
    "    'n_estimators' : [10,50,100,200] #number of trees in forest\n",
    "    ,'max_depth' : [2, 5, 10, 15] #max depth of each tree\n",
    "}"
   ]
  },
  {
   "cell_type": "code",
   "execution_count": 19,
   "metadata": {},
   "outputs": [
    {
     "name": "stdout",
     "output_type": "stream",
     "text": [
      "Best parameters: {'max_depth': 2, 'n_estimators': 100}\n",
      "Best CV accuracy: 0.8565602836879433\n"
     ]
    }
   ],
   "source": [
    "#Step 3: Perform grid search (based on accuracy), store and print best values\n",
    "grid_search = GridSearchCV(estimator = rf, param_grid = param_grid, scoring = 'accuracy') #default 5-fold CV\n",
    "grid_search.fit(X_train, y_train) #fit on training set\n",
    "\n",
    "optimal_rf = grid_search.best_estimator_ #store rf with tuned parameters\n",
    "\n",
    "print(f'Best parameters: {grid_search.best_params_}')\n",
    "print(f'Best CV accuracy: {grid_search.best_score_}') "
   ]
  },
  {
   "cell_type": "code",
   "execution_count": 20,
   "metadata": {},
   "outputs": [
    {
     "name": "stdout",
     "output_type": "stream",
     "text": [
      "age: 0.0312\n",
      "sex: 0.0218\n",
      "cp: 0.2567\n",
      "trestbps: 0.0183\n",
      "chol: 0.0240\n",
      "fbs: 0.0000\n",
      "restecg: 0.0036\n",
      "thalach: 0.0890\n",
      "exang: 0.1069\n",
      "oldpeak: 0.0898\n",
      "slope: 0.0930\n",
      "ca: 0.0994\n",
      "thal: 0.1662\n"
     ]
    }
   ],
   "source": [
    "#Step 4: print feature importances\n",
    "\n",
    "importances = optimal_rf.feature_importances_ #use built-in feature to extract importances\n",
    "\n",
    "#removed because messed up column naming (I'm too lazy to fix)\n",
    "#importances = np.sort(importances)[::-1] #sort array (default = asc) and then reverse for descending (most import first)\n",
    "\n",
    "for i, importance in enumerate(importances):\n",
    "    print(f'{X.columns[i]}: {importance:.4f}')"
   ]
  },
  {
   "attachments": {},
   "cell_type": "markdown",
   "metadata": {},
   "source": [
    "* **(8 points)** Perceptron. Print/plot the training confusion matrix of this model."
   ]
  },
  {
   "cell_type": "code",
   "execution_count": 28,
   "metadata": {},
   "outputs": [
    {
     "data": {
      "text/plain": [
       "array([[112,  12],\n",
       "       [ 27,  86]])"
      ]
     },
     "execution_count": 28,
     "metadata": {},
     "output_type": "execute_result"
    }
   ],
   "source": [
    "from sklearn.linear_model import Perceptron\n",
    "from sklearn.metrics import confusion_matrix\n",
    "\n",
    "perceptron = Perceptron() #initalize model using default parameters\n",
    "perceptron.fit(X_train, y_train) #fit model on training data\n",
    "y_pred_train = perceptron.predict(X_train) #make predictions on training(?) data, store output in variable (I would've assumed this would always be done on testing data but the a future question asks for the testing data CM's)\n",
    "\n",
    "confusion_matrix(y_train, y_pred_train) #print confusion matrix"
   ]
  },
  {
   "cell_type": "markdown",
   "metadata": {},
   "source": [
    "* **(10 points)** Multi-Layer Perceptron with two hidden layers. Use the random search to find good values for the number of units in these hidden layers. Print/plot the training confusion matrix of the model with these best values."
   ]
  },
  {
   "cell_type": "code",
   "execution_count": 29,
   "metadata": {
    "tags": []
   },
   "outputs": [
    {
     "name": "stderr",
     "output_type": "stream",
     "text": [
      "/uufs/chpc.utah.edu/sys/installdir/r8/python/3.12.4/lib/python3.12/site-packages/sklearn/neural_network/_multilayer_perceptron.py:690: ConvergenceWarning: Stochastic Optimizer: Maximum iterations (200) reached and the optimization hasn't converged yet.\n",
      "  warnings.warn(\n",
      "/uufs/chpc.utah.edu/sys/installdir/r8/python/3.12.4/lib/python3.12/site-packages/sklearn/neural_network/_multilayer_perceptron.py:690: ConvergenceWarning: Stochastic Optimizer: Maximum iterations (200) reached and the optimization hasn't converged yet.\n",
      "  warnings.warn(\n",
      "/uufs/chpc.utah.edu/sys/installdir/r8/python/3.12.4/lib/python3.12/site-packages/sklearn/neural_network/_multilayer_perceptron.py:690: ConvergenceWarning: Stochastic Optimizer: Maximum iterations (200) reached and the optimization hasn't converged yet.\n",
      "  warnings.warn(\n",
      "/uufs/chpc.utah.edu/sys/installdir/r8/python/3.12.4/lib/python3.12/site-packages/sklearn/neural_network/_multilayer_perceptron.py:690: ConvergenceWarning: Stochastic Optimizer: Maximum iterations (200) reached and the optimization hasn't converged yet.\n",
      "  warnings.warn(\n",
      "/uufs/chpc.utah.edu/sys/installdir/r8/python/3.12.4/lib/python3.12/site-packages/sklearn/neural_network/_multilayer_perceptron.py:690: ConvergenceWarning: Stochastic Optimizer: Maximum iterations (200) reached and the optimization hasn't converged yet.\n",
      "  warnings.warn(\n",
      "/uufs/chpc.utah.edu/sys/installdir/r8/python/3.12.4/lib/python3.12/site-packages/sklearn/neural_network/_multilayer_perceptron.py:690: ConvergenceWarning: Stochastic Optimizer: Maximum iterations (200) reached and the optimization hasn't converged yet.\n",
      "  warnings.warn(\n",
      "/uufs/chpc.utah.edu/sys/installdir/r8/python/3.12.4/lib/python3.12/site-packages/sklearn/neural_network/_multilayer_perceptron.py:690: ConvergenceWarning: Stochastic Optimizer: Maximum iterations (200) reached and the optimization hasn't converged yet.\n",
      "  warnings.warn(\n",
      "/uufs/chpc.utah.edu/sys/installdir/r8/python/3.12.4/lib/python3.12/site-packages/sklearn/neural_network/_multilayer_perceptron.py:690: ConvergenceWarning: Stochastic Optimizer: Maximum iterations (200) reached and the optimization hasn't converged yet.\n",
      "  warnings.warn(\n",
      "/uufs/chpc.utah.edu/sys/installdir/r8/python/3.12.4/lib/python3.12/site-packages/sklearn/neural_network/_multilayer_perceptron.py:690: ConvergenceWarning: Stochastic Optimizer: Maximum iterations (200) reached and the optimization hasn't converged yet.\n",
      "  warnings.warn(\n",
      "/uufs/chpc.utah.edu/sys/installdir/r8/python/3.12.4/lib/python3.12/site-packages/sklearn/neural_network/_multilayer_perceptron.py:690: ConvergenceWarning: Stochastic Optimizer: Maximum iterations (200) reached and the optimization hasn't converged yet.\n",
      "  warnings.warn(\n",
      "/uufs/chpc.utah.edu/sys/installdir/r8/python/3.12.4/lib/python3.12/site-packages/sklearn/neural_network/_multilayer_perceptron.py:690: ConvergenceWarning: Stochastic Optimizer: Maximum iterations (200) reached and the optimization hasn't converged yet.\n",
      "  warnings.warn(\n",
      "/uufs/chpc.utah.edu/sys/installdir/r8/python/3.12.4/lib/python3.12/site-packages/sklearn/neural_network/_multilayer_perceptron.py:690: ConvergenceWarning: Stochastic Optimizer: Maximum iterations (200) reached and the optimization hasn't converged yet.\n",
      "  warnings.warn(\n",
      "/uufs/chpc.utah.edu/sys/installdir/r8/python/3.12.4/lib/python3.12/site-packages/sklearn/neural_network/_multilayer_perceptron.py:690: ConvergenceWarning: Stochastic Optimizer: Maximum iterations (200) reached and the optimization hasn't converged yet.\n",
      "  warnings.warn(\n",
      "/uufs/chpc.utah.edu/sys/installdir/r8/python/3.12.4/lib/python3.12/site-packages/sklearn/neural_network/_multilayer_perceptron.py:690: ConvergenceWarning: Stochastic Optimizer: Maximum iterations (200) reached and the optimization hasn't converged yet.\n",
      "  warnings.warn(\n",
      "/uufs/chpc.utah.edu/sys/installdir/r8/python/3.12.4/lib/python3.12/site-packages/sklearn/neural_network/_multilayer_perceptron.py:690: ConvergenceWarning: Stochastic Optimizer: Maximum iterations (200) reached and the optimization hasn't converged yet.\n",
      "  warnings.warn(\n",
      "/uufs/chpc.utah.edu/sys/installdir/r8/python/3.12.4/lib/python3.12/site-packages/sklearn/neural_network/_multilayer_perceptron.py:690: ConvergenceWarning: Stochastic Optimizer: Maximum iterations (200) reached and the optimization hasn't converged yet.\n",
      "  warnings.warn(\n",
      "/uufs/chpc.utah.edu/sys/installdir/r8/python/3.12.4/lib/python3.12/site-packages/sklearn/neural_network/_multilayer_perceptron.py:690: ConvergenceWarning: Stochastic Optimizer: Maximum iterations (200) reached and the optimization hasn't converged yet.\n",
      "  warnings.warn(\n",
      "/uufs/chpc.utah.edu/sys/installdir/r8/python/3.12.4/lib/python3.12/site-packages/sklearn/neural_network/_multilayer_perceptron.py:690: ConvergenceWarning: Stochastic Optimizer: Maximum iterations (200) reached and the optimization hasn't converged yet.\n",
      "  warnings.warn(\n",
      "/uufs/chpc.utah.edu/sys/installdir/r8/python/3.12.4/lib/python3.12/site-packages/sklearn/neural_network/_multilayer_perceptron.py:690: ConvergenceWarning: Stochastic Optimizer: Maximum iterations (200) reached and the optimization hasn't converged yet.\n",
      "  warnings.warn(\n",
      "/uufs/chpc.utah.edu/sys/installdir/r8/python/3.12.4/lib/python3.12/site-packages/sklearn/neural_network/_multilayer_perceptron.py:690: ConvergenceWarning: Stochastic Optimizer: Maximum iterations (200) reached and the optimization hasn't converged yet.\n",
      "  warnings.warn(\n",
      "/uufs/chpc.utah.edu/sys/installdir/r8/python/3.12.4/lib/python3.12/site-packages/sklearn/neural_network/_multilayer_perceptron.py:690: ConvergenceWarning: Stochastic Optimizer: Maximum iterations (200) reached and the optimization hasn't converged yet.\n",
      "  warnings.warn(\n",
      "/uufs/chpc.utah.edu/sys/installdir/r8/python/3.12.4/lib/python3.12/site-packages/sklearn/neural_network/_multilayer_perceptron.py:690: ConvergenceWarning: Stochastic Optimizer: Maximum iterations (200) reached and the optimization hasn't converged yet.\n",
      "  warnings.warn(\n",
      "/uufs/chpc.utah.edu/sys/installdir/r8/python/3.12.4/lib/python3.12/site-packages/sklearn/neural_network/_multilayer_perceptron.py:690: ConvergenceWarning: Stochastic Optimizer: Maximum iterations (200) reached and the optimization hasn't converged yet.\n",
      "  warnings.warn(\n",
      "/uufs/chpc.utah.edu/sys/installdir/r8/python/3.12.4/lib/python3.12/site-packages/sklearn/neural_network/_multilayer_perceptron.py:690: ConvergenceWarning: Stochastic Optimizer: Maximum iterations (200) reached and the optimization hasn't converged yet.\n",
      "  warnings.warn(\n",
      "/uufs/chpc.utah.edu/sys/installdir/r8/python/3.12.4/lib/python3.12/site-packages/sklearn/neural_network/_multilayer_perceptron.py:690: ConvergenceWarning: Stochastic Optimizer: Maximum iterations (200) reached and the optimization hasn't converged yet.\n",
      "  warnings.warn(\n",
      "/uufs/chpc.utah.edu/sys/installdir/r8/python/3.12.4/lib/python3.12/site-packages/sklearn/neural_network/_multilayer_perceptron.py:690: ConvergenceWarning: Stochastic Optimizer: Maximum iterations (200) reached and the optimization hasn't converged yet.\n",
      "  warnings.warn(\n",
      "/uufs/chpc.utah.edu/sys/installdir/r8/python/3.12.4/lib/python3.12/site-packages/sklearn/neural_network/_multilayer_perceptron.py:690: ConvergenceWarning: Stochastic Optimizer: Maximum iterations (200) reached and the optimization hasn't converged yet.\n",
      "  warnings.warn(\n",
      "/uufs/chpc.utah.edu/sys/installdir/r8/python/3.12.4/lib/python3.12/site-packages/sklearn/neural_network/_multilayer_perceptron.py:690: ConvergenceWarning: Stochastic Optimizer: Maximum iterations (200) reached and the optimization hasn't converged yet.\n",
      "  warnings.warn(\n",
      "/uufs/chpc.utah.edu/sys/installdir/r8/python/3.12.4/lib/python3.12/site-packages/sklearn/neural_network/_multilayer_perceptron.py:690: ConvergenceWarning: Stochastic Optimizer: Maximum iterations (200) reached and the optimization hasn't converged yet.\n",
      "  warnings.warn(\n",
      "/uufs/chpc.utah.edu/sys/installdir/r8/python/3.12.4/lib/python3.12/site-packages/sklearn/neural_network/_multilayer_perceptron.py:690: ConvergenceWarning: Stochastic Optimizer: Maximum iterations (200) reached and the optimization hasn't converged yet.\n",
      "  warnings.warn(\n",
      "/uufs/chpc.utah.edu/sys/installdir/r8/python/3.12.4/lib/python3.12/site-packages/sklearn/neural_network/_multilayer_perceptron.py:690: ConvergenceWarning: Stochastic Optimizer: Maximum iterations (200) reached and the optimization hasn't converged yet.\n",
      "  warnings.warn(\n",
      "/uufs/chpc.utah.edu/sys/installdir/r8/python/3.12.4/lib/python3.12/site-packages/sklearn/neural_network/_multilayer_perceptron.py:690: ConvergenceWarning: Stochastic Optimizer: Maximum iterations (200) reached and the optimization hasn't converged yet.\n",
      "  warnings.warn(\n",
      "/uufs/chpc.utah.edu/sys/installdir/r8/python/3.12.4/lib/python3.12/site-packages/sklearn/neural_network/_multilayer_perceptron.py:690: ConvergenceWarning: Stochastic Optimizer: Maximum iterations (200) reached and the optimization hasn't converged yet.\n",
      "  warnings.warn(\n",
      "/uufs/chpc.utah.edu/sys/installdir/r8/python/3.12.4/lib/python3.12/site-packages/sklearn/neural_network/_multilayer_perceptron.py:690: ConvergenceWarning: Stochastic Optimizer: Maximum iterations (200) reached and the optimization hasn't converged yet.\n",
      "  warnings.warn(\n",
      "/uufs/chpc.utah.edu/sys/installdir/r8/python/3.12.4/lib/python3.12/site-packages/sklearn/neural_network/_multilayer_perceptron.py:690: ConvergenceWarning: Stochastic Optimizer: Maximum iterations (200) reached and the optimization hasn't converged yet.\n",
      "  warnings.warn(\n",
      "/uufs/chpc.utah.edu/sys/installdir/r8/python/3.12.4/lib/python3.12/site-packages/sklearn/neural_network/_multilayer_perceptron.py:690: ConvergenceWarning: Stochastic Optimizer: Maximum iterations (200) reached and the optimization hasn't converged yet.\n",
      "  warnings.warn(\n",
      "/uufs/chpc.utah.edu/sys/installdir/r8/python/3.12.4/lib/python3.12/site-packages/sklearn/neural_network/_multilayer_perceptron.py:690: ConvergenceWarning: Stochastic Optimizer: Maximum iterations (200) reached and the optimization hasn't converged yet.\n",
      "  warnings.warn(\n",
      "/uufs/chpc.utah.edu/sys/installdir/r8/python/3.12.4/lib/python3.12/site-packages/sklearn/neural_network/_multilayer_perceptron.py:690: ConvergenceWarning: Stochastic Optimizer: Maximum iterations (200) reached and the optimization hasn't converged yet.\n",
      "  warnings.warn(\n",
      "/uufs/chpc.utah.edu/sys/installdir/r8/python/3.12.4/lib/python3.12/site-packages/sklearn/neural_network/_multilayer_perceptron.py:690: ConvergenceWarning: Stochastic Optimizer: Maximum iterations (200) reached and the optimization hasn't converged yet.\n",
      "  warnings.warn(\n",
      "/uufs/chpc.utah.edu/sys/installdir/r8/python/3.12.4/lib/python3.12/site-packages/sklearn/neural_network/_multilayer_perceptron.py:690: ConvergenceWarning: Stochastic Optimizer: Maximum iterations (200) reached and the optimization hasn't converged yet.\n",
      "  warnings.warn(\n",
      "/uufs/chpc.utah.edu/sys/installdir/r8/python/3.12.4/lib/python3.12/site-packages/sklearn/neural_network/_multilayer_perceptron.py:690: ConvergenceWarning: Stochastic Optimizer: Maximum iterations (200) reached and the optimization hasn't converged yet.\n",
      "  warnings.warn(\n",
      "/uufs/chpc.utah.edu/sys/installdir/r8/python/3.12.4/lib/python3.12/site-packages/sklearn/neural_network/_multilayer_perceptron.py:690: ConvergenceWarning: Stochastic Optimizer: Maximum iterations (200) reached and the optimization hasn't converged yet.\n",
      "  warnings.warn(\n",
      "/uufs/chpc.utah.edu/sys/installdir/r8/python/3.12.4/lib/python3.12/site-packages/sklearn/neural_network/_multilayer_perceptron.py:690: ConvergenceWarning: Stochastic Optimizer: Maximum iterations (200) reached and the optimization hasn't converged yet.\n",
      "  warnings.warn(\n",
      "/uufs/chpc.utah.edu/sys/installdir/r8/python/3.12.4/lib/python3.12/site-packages/sklearn/neural_network/_multilayer_perceptron.py:690: ConvergenceWarning: Stochastic Optimizer: Maximum iterations (200) reached and the optimization hasn't converged yet.\n",
      "  warnings.warn(\n",
      "/uufs/chpc.utah.edu/sys/installdir/r8/python/3.12.4/lib/python3.12/site-packages/sklearn/neural_network/_multilayer_perceptron.py:690: ConvergenceWarning: Stochastic Optimizer: Maximum iterations (200) reached and the optimization hasn't converged yet.\n",
      "  warnings.warn(\n",
      "/uufs/chpc.utah.edu/sys/installdir/r8/python/3.12.4/lib/python3.12/site-packages/sklearn/neural_network/_multilayer_perceptron.py:690: ConvergenceWarning: Stochastic Optimizer: Maximum iterations (200) reached and the optimization hasn't converged yet.\n",
      "  warnings.warn(\n",
      "/uufs/chpc.utah.edu/sys/installdir/r8/python/3.12.4/lib/python3.12/site-packages/sklearn/neural_network/_multilayer_perceptron.py:690: ConvergenceWarning: Stochastic Optimizer: Maximum iterations (200) reached and the optimization hasn't converged yet.\n",
      "  warnings.warn(\n",
      "/uufs/chpc.utah.edu/sys/installdir/r8/python/3.12.4/lib/python3.12/site-packages/sklearn/neural_network/_multilayer_perceptron.py:690: ConvergenceWarning: Stochastic Optimizer: Maximum iterations (200) reached and the optimization hasn't converged yet.\n",
      "  warnings.warn(\n",
      "/uufs/chpc.utah.edu/sys/installdir/r8/python/3.12.4/lib/python3.12/site-packages/sklearn/neural_network/_multilayer_perceptron.py:690: ConvergenceWarning: Stochastic Optimizer: Maximum iterations (200) reached and the optimization hasn't converged yet.\n",
      "  warnings.warn(\n",
      "/uufs/chpc.utah.edu/sys/installdir/r8/python/3.12.4/lib/python3.12/site-packages/sklearn/neural_network/_multilayer_perceptron.py:690: ConvergenceWarning: Stochastic Optimizer: Maximum iterations (200) reached and the optimization hasn't converged yet.\n",
      "  warnings.warn(\n"
     ]
    },
    {
     "name": "stdout",
     "output_type": "stream",
     "text": [
      "Best Parameters: {'hidden_layer_sizes': (257, 249)}\n"
     ]
    },
    {
     "name": "stderr",
     "output_type": "stream",
     "text": [
      "/uufs/chpc.utah.edu/sys/installdir/r8/python/3.12.4/lib/python3.12/site-packages/sklearn/neural_network/_multilayer_perceptron.py:690: ConvergenceWarning: Stochastic Optimizer: Maximum iterations (200) reached and the optimization hasn't converged yet.\n",
      "  warnings.warn(\n"
     ]
    },
    {
     "data": {
      "text/plain": [
       "array([[123,   1],\n",
       "       [  0, 113]])"
      ]
     },
     "execution_count": 29,
     "metadata": {},
     "output_type": "execute_result"
    }
   ],
   "source": [
    "from sklearn.neural_network import MLPClassifier\n",
    "from sklearn.model_selection import RandomizedSearchCV\n",
    "\n",
    "cccc"
   ]
  },
  {
   "cell_type": "markdown",
   "metadata": {},
   "source": [
    "I was having a lot of trouble converging this MLP. If you have any tips to avoid this in the future, please let me know in your comments!"
   ]
  },
  {
   "cell_type": "markdown",
   "metadata": {},
   "source": [
    "* **(10 points)** Print/plot the test confusion matrices of the above three models. Plot a histogram of the test accuracies of these models."
   ]
  },
  {
   "cell_type": "code",
   "execution_count": 32,
   "metadata": {},
   "outputs": [
    {
     "name": "stdout",
     "output_type": "stream",
     "text": [
      "Confusion Matrices:\n",
      "\n",
      "RF:\n",
      "[[34  2]\n",
      " [ 5 19]]\n",
      "\n",
      "Perceptron:\n",
      "[[35  1]\n",
      " [ 8 16]]\n",
      "\n",
      "MLP:\n",
      "[[29  7]\n",
      " [ 9 15]]\n"
     ]
    }
   ],
   "source": [
    "#repeat logic from RF to make test set for confusion matrix\n",
    "X_test = heart_dis_test[:,:-1]\n",
    "y_test = heart_dis_test[:,-1]\n",
    "\n",
    "#get predicted values for test data on all three models:\n",
    "\n",
    "#RF\n",
    "y_pred_rf = optimal_rf.predict(X_test)\n",
    "\n",
    "#Perceptron\n",
    "y_pred_perceptron = perceptron.predict(X_test) \n",
    "\n",
    "#MLP\n",
    "y_pred_mlp = mlp_best.predict(X_test) \n",
    "\n",
    "#print confusion Matrices\n",
    "print(\"Confusion Matrices:\")\n",
    "print()\n",
    "print(\"RF:\")\n",
    "print(confusion_matrix(y_test, y_pred_rf))\n",
    "print()\n",
    "print(\"Perceptron:\")\n",
    "print(confusion_matrix(y_test, y_pred_perceptron))\n",
    "print()\n",
    "print(\"MLP:\")\n",
    "print(confusion_matrix(y_test, y_pred_mlp))"
   ]
  },
  {
   "cell_type": "code",
   "execution_count": 44,
   "metadata": {},
   "outputs": [
    {
     "data": {
      "image/png": "[encoded data removed]",
      "text/plain": [
       "<Figure size 800x600 with 1 Axes>"
      ]
     },
     "metadata": {},
     "output_type": "display_data"
    }
   ],
   "source": [
    "from sklearn.metrics import accuracy_score\n",
    "\n",
    "pred_array = [y_pred_rf, y_pred_perceptron, y_pred_mlp] #make array with y_pred arrays for each of the three models\n",
    "\n",
    "score_array = [] #set up array to store testing accuracies\n",
    "\n",
    "for i in range(len(pred_array)): #create loop to go through array\n",
    "    score_array.append(accuracy_score(y_test, pred_array[i])) #calculate and append each testing accuaracy to score_array\n",
    "\n",
    "#set up histogram to plot score array\n",
    "plt.figure(figsize=(8, 6))\n",
    "plt.hist(score_array, bins=np.linspace(.7, 1, 11), alpha=0.7, color='blue', edgecolor='black')\n",
    "plt.xticks(np.linspace(.7, 1, 11))\n",
    "plt.xlabel(\"Accuracy\")\n",
    "plt.ylabel(\"Frequency\")\n",
    "plt.title(\"Histogram of Test Accuracies for Different Classifiers\")\n",
    "plt.grid(axis=\"y\", linestyle=\"--\", alpha=0.7)\n",
    "plt.show()"
   ]
  },
  {
   "attachments": {},
   "cell_type": "markdown",
   "metadata": {},
   "source": [
    "## Training with lower-dimensional data\n",
    "\n",
    "The above data has 13 dimensions (or input features). We can use PCA to reduce this data to say 2 dimensions and then train ML models using the transformed data.\n",
    "\n",
    "* **(8 points)** Fit a PCA model to the above training data. Then use this PCA model to transform the training data from 13 dimensions down to 2 dimensions."
   ]
  },
  {
   "cell_type": "code",
   "execution_count": 47,
   "metadata": {},
   "outputs": [
    {
     "data": {
      "text/plain": [
       "array([[-0.40383698,  0.42458511],\n",
       "       [-0.56568329, -0.48843035],\n",
       "       [ 0.54334428, -0.21759927],\n",
       "       [ 0.71510112, -0.65843932],\n",
       "       [-0.64144483, -0.49672581],\n",
       "       [ 0.24256564,  0.38794951],\n",
       "       [ 0.31317172, -0.5178228 ],\n",
       "       [-0.56544779,  0.74445781],\n",
       "       [ 0.24138536,  0.16367367],\n",
       "       [-0.1970756 ,  0.54353123]])"
      ]
     },
     "execution_count": 47,
     "metadata": {},
     "output_type": "execute_result"
    }
   ],
   "source": [
    "from sklearn.decomposition import PCA\n",
    "\n",
    "pca = PCA(n_components = 2) #initalize PCA model to reduce training data to 2 dimensions\n",
    "X_train_pca = pca.fit_transform(X_train) #fit PCA on dataset, transform data\n",
    "\n",
    "X_train_pca[:10] #print preview of reduced dataset"
   ]
  },
  {
   "attachments": {},
   "cell_type": "markdown",
   "metadata": {},
   "source": [
    "* **(4 points)** Using the above PCA model, transform the test data to two dimensions."
   ]
  },
  {
   "cell_type": "code",
   "execution_count": 49,
   "metadata": {},
   "outputs": [
    {
     "data": {
      "text/plain": [
       "array([[ 0.34653366, -0.78679339],\n",
       "       [-0.4109655 ,  0.46616835],\n",
       "       [-0.05894562,  0.22345649],\n",
       "       [ 1.14583543,  0.32286288],\n",
       "       [ 0.2313432 ,  0.19212505],\n",
       "       [-0.85110546,  0.77232651],\n",
       "       [-0.42930502, -0.38697605],\n",
       "       [ 0.05722237, -0.6140757 ],\n",
       "       [-0.09833313,  0.57511468],\n",
       "       [ 0.71437693,  0.59463667]])"
      ]
     },
     "execution_count": 49,
     "metadata": {},
     "output_type": "execute_result"
    }
   ],
   "source": [
    "#use same process as above, expect don't 'fit' on testing data (use training fit)\n",
    "\n",
    "X_test_pca = pca.transform(X_test)\n",
    "\n",
    "X_test_pca[:10]"
   ]
  },
  {
   "attachments": {},
   "cell_type": "markdown",
   "metadata": {},
   "source": [
    "* **(10 points)** Train an MLP model on the transformed training data and evaluate it on the transformed test data. Print/plot its confusion matrix and print its accuracy."
   ]
  },
  {
   "cell_type": "code",
   "execution_count": 51,
   "metadata": {},
   "outputs": [
    {
     "name": "stderr",
     "output_type": "stream",
     "text": [
      "/uufs/chpc.utah.edu/sys/installdir/r8/python/3.12.4/lib/python3.12/site-packages/sklearn/neural_network/_multilayer_perceptron.py:690: ConvergenceWarning: Stochastic Optimizer: Maximum iterations (200) reached and the optimization hasn't converged yet.\n",
      "  warnings.warn(\n",
      "/uufs/chpc.utah.edu/sys/installdir/r8/python/3.12.4/lib/python3.12/site-packages/sklearn/neural_network/_multilayer_perceptron.py:690: ConvergenceWarning: Stochastic Optimizer: Maximum iterations (200) reached and the optimization hasn't converged yet.\n",
      "  warnings.warn(\n",
      "/uufs/chpc.utah.edu/sys/installdir/r8/python/3.12.4/lib/python3.12/site-packages/sklearn/neural_network/_multilayer_perceptron.py:690: ConvergenceWarning: Stochastic Optimizer: Maximum iterations (200) reached and the optimization hasn't converged yet.\n",
      "  warnings.warn(\n",
      "/uufs/chpc.utah.edu/sys/installdir/r8/python/3.12.4/lib/python3.12/site-packages/sklearn/neural_network/_multilayer_perceptron.py:690: ConvergenceWarning: Stochastic Optimizer: Maximum iterations (200) reached and the optimization hasn't converged yet.\n",
      "  warnings.warn(\n",
      "/uufs/chpc.utah.edu/sys/installdir/r8/python/3.12.4/lib/python3.12/site-packages/sklearn/neural_network/_multilayer_perceptron.py:690: ConvergenceWarning: Stochastic Optimizer: Maximum iterations (200) reached and the optimization hasn't converged yet.\n",
      "  warnings.warn(\n",
      "/uufs/chpc.utah.edu/sys/installdir/r8/python/3.12.4/lib/python3.12/site-packages/sklearn/neural_network/_multilayer_perceptron.py:690: ConvergenceWarning: Stochastic Optimizer: Maximum iterations (200) reached and the optimization hasn't converged yet.\n",
      "  warnings.warn(\n",
      "/uufs/chpc.utah.edu/sys/installdir/r8/python/3.12.4/lib/python3.12/site-packages/sklearn/neural_network/_multilayer_perceptron.py:690: ConvergenceWarning: Stochastic Optimizer: Maximum iterations (200) reached and the optimization hasn't converged yet.\n",
      "  warnings.warn(\n",
      "/uufs/chpc.utah.edu/sys/installdir/r8/python/3.12.4/lib/python3.12/site-packages/sklearn/neural_network/_multilayer_perceptron.py:690: ConvergenceWarning: Stochastic Optimizer: Maximum iterations (200) reached and the optimization hasn't converged yet.\n",
      "  warnings.warn(\n",
      "/uufs/chpc.utah.edu/sys/installdir/r8/python/3.12.4/lib/python3.12/site-packages/sklearn/neural_network/_multilayer_perceptron.py:690: ConvergenceWarning: Stochastic Optimizer: Maximum iterations (200) reached and the optimization hasn't converged yet.\n",
      "  warnings.warn(\n",
      "/uufs/chpc.utah.edu/sys/installdir/r8/python/3.12.4/lib/python3.12/site-packages/sklearn/neural_network/_multilayer_perceptron.py:690: ConvergenceWarning: Stochastic Optimizer: Maximum iterations (200) reached and the optimization hasn't converged yet.\n",
      "  warnings.warn(\n",
      "/uufs/chpc.utah.edu/sys/installdir/r8/python/3.12.4/lib/python3.12/site-packages/sklearn/neural_network/_multilayer_perceptron.py:690: ConvergenceWarning: Stochastic Optimizer: Maximum iterations (200) reached and the optimization hasn't converged yet.\n",
      "  warnings.warn(\n",
      "/uufs/chpc.utah.edu/sys/installdir/r8/python/3.12.4/lib/python3.12/site-packages/sklearn/neural_network/_multilayer_perceptron.py:690: ConvergenceWarning: Stochastic Optimizer: Maximum iterations (200) reached and the optimization hasn't converged yet.\n",
      "  warnings.warn(\n",
      "/uufs/chpc.utah.edu/sys/installdir/r8/python/3.12.4/lib/python3.12/site-packages/sklearn/neural_network/_multilayer_perceptron.py:690: ConvergenceWarning: Stochastic Optimizer: Maximum iterations (200) reached and the optimization hasn't converged yet.\n",
      "  warnings.warn(\n",
      "/uufs/chpc.utah.edu/sys/installdir/r8/python/3.12.4/lib/python3.12/site-packages/sklearn/neural_network/_multilayer_perceptron.py:690: ConvergenceWarning: Stochastic Optimizer: Maximum iterations (200) reached and the optimization hasn't converged yet.\n",
      "  warnings.warn(\n",
      "/uufs/chpc.utah.edu/sys/installdir/r8/python/3.12.4/lib/python3.12/site-packages/sklearn/neural_network/_multilayer_perceptron.py:690: ConvergenceWarning: Stochastic Optimizer: Maximum iterations (200) reached and the optimization hasn't converged yet.\n",
      "  warnings.warn(\n",
      "/uufs/chpc.utah.edu/sys/installdir/r8/python/3.12.4/lib/python3.12/site-packages/sklearn/neural_network/_multilayer_perceptron.py:690: ConvergenceWarning: Stochastic Optimizer: Maximum iterations (200) reached and the optimization hasn't converged yet.\n",
      "  warnings.warn(\n",
      "/uufs/chpc.utah.edu/sys/installdir/r8/python/3.12.4/lib/python3.12/site-packages/sklearn/neural_network/_multilayer_perceptron.py:690: ConvergenceWarning: Stochastic Optimizer: Maximum iterations (200) reached and the optimization hasn't converged yet.\n",
      "  warnings.warn(\n",
      "/uufs/chpc.utah.edu/sys/installdir/r8/python/3.12.4/lib/python3.12/site-packages/sklearn/neural_network/_multilayer_perceptron.py:690: ConvergenceWarning: Stochastic Optimizer: Maximum iterations (200) reached and the optimization hasn't converged yet.\n",
      "  warnings.warn(\n",
      "/uufs/chpc.utah.edu/sys/installdir/r8/python/3.12.4/lib/python3.12/site-packages/sklearn/neural_network/_multilayer_perceptron.py:690: ConvergenceWarning: Stochastic Optimizer: Maximum iterations (200) reached and the optimization hasn't converged yet.\n",
      "  warnings.warn(\n",
      "/uufs/chpc.utah.edu/sys/installdir/r8/python/3.12.4/lib/python3.12/site-packages/sklearn/neural_network/_multilayer_perceptron.py:690: ConvergenceWarning: Stochastic Optimizer: Maximum iterations (200) reached and the optimization hasn't converged yet.\n",
      "  warnings.warn(\n",
      "/uufs/chpc.utah.edu/sys/installdir/r8/python/3.12.4/lib/python3.12/site-packages/sklearn/neural_network/_multilayer_perceptron.py:690: ConvergenceWarning: Stochastic Optimizer: Maximum iterations (200) reached and the optimization hasn't converged yet.\n",
      "  warnings.warn(\n",
      "/uufs/chpc.utah.edu/sys/installdir/r8/python/3.12.4/lib/python3.12/site-packages/sklearn/neural_network/_multilayer_perceptron.py:690: ConvergenceWarning: Stochastic Optimizer: Maximum iterations (200) reached and the optimization hasn't converged yet.\n",
      "  warnings.warn(\n",
      "/uufs/chpc.utah.edu/sys/installdir/r8/python/3.12.4/lib/python3.12/site-packages/sklearn/neural_network/_multilayer_perceptron.py:690: ConvergenceWarning: Stochastic Optimizer: Maximum iterations (200) reached and the optimization hasn't converged yet.\n",
      "  warnings.warn(\n",
      "/uufs/chpc.utah.edu/sys/installdir/r8/python/3.12.4/lib/python3.12/site-packages/sklearn/neural_network/_multilayer_perceptron.py:690: ConvergenceWarning: Stochastic Optimizer: Maximum iterations (200) reached and the optimization hasn't converged yet.\n",
      "  warnings.warn(\n",
      "/uufs/chpc.utah.edu/sys/installdir/r8/python/3.12.4/lib/python3.12/site-packages/sklearn/neural_network/_multilayer_perceptron.py:690: ConvergenceWarning: Stochastic Optimizer: Maximum iterations (200) reached and the optimization hasn't converged yet.\n",
      "  warnings.warn(\n",
      "/uufs/chpc.utah.edu/sys/installdir/r8/python/3.12.4/lib/python3.12/site-packages/sklearn/neural_network/_multilayer_perceptron.py:690: ConvergenceWarning: Stochastic Optimizer: Maximum iterations (200) reached and the optimization hasn't converged yet.\n",
      "  warnings.warn(\n",
      "/uufs/chpc.utah.edu/sys/installdir/r8/python/3.12.4/lib/python3.12/site-packages/sklearn/neural_network/_multilayer_perceptron.py:690: ConvergenceWarning: Stochastic Optimizer: Maximum iterations (200) reached and the optimization hasn't converged yet.\n",
      "  warnings.warn(\n",
      "/uufs/chpc.utah.edu/sys/installdir/r8/python/3.12.4/lib/python3.12/site-packages/sklearn/neural_network/_multilayer_perceptron.py:690: ConvergenceWarning: Stochastic Optimizer: Maximum iterations (200) reached and the optimization hasn't converged yet.\n",
      "  warnings.warn(\n",
      "/uufs/chpc.utah.edu/sys/installdir/r8/python/3.12.4/lib/python3.12/site-packages/sklearn/neural_network/_multilayer_perceptron.py:690: ConvergenceWarning: Stochastic Optimizer: Maximum iterations (200) reached and the optimization hasn't converged yet.\n",
      "  warnings.warn(\n",
      "/uufs/chpc.utah.edu/sys/installdir/r8/python/3.12.4/lib/python3.12/site-packages/sklearn/neural_network/_multilayer_perceptron.py:690: ConvergenceWarning: Stochastic Optimizer: Maximum iterations (200) reached and the optimization hasn't converged yet.\n",
      "  warnings.warn(\n",
      "/uufs/chpc.utah.edu/sys/installdir/r8/python/3.12.4/lib/python3.12/site-packages/sklearn/neural_network/_multilayer_perceptron.py:690: ConvergenceWarning: Stochastic Optimizer: Maximum iterations (200) reached and the optimization hasn't converged yet.\n",
      "  warnings.warn(\n",
      "/uufs/chpc.utah.edu/sys/installdir/r8/python/3.12.4/lib/python3.12/site-packages/sklearn/neural_network/_multilayer_perceptron.py:690: ConvergenceWarning: Stochastic Optimizer: Maximum iterations (200) reached and the optimization hasn't converged yet.\n",
      "  warnings.warn(\n",
      "/uufs/chpc.utah.edu/sys/installdir/r8/python/3.12.4/lib/python3.12/site-packages/sklearn/neural_network/_multilayer_perceptron.py:690: ConvergenceWarning: Stochastic Optimizer: Maximum iterations (200) reached and the optimization hasn't converged yet.\n",
      "  warnings.warn(\n",
      "/uufs/chpc.utah.edu/sys/installdir/r8/python/3.12.4/lib/python3.12/site-packages/sklearn/neural_network/_multilayer_perceptron.py:690: ConvergenceWarning: Stochastic Optimizer: Maximum iterations (200) reached and the optimization hasn't converged yet.\n",
      "  warnings.warn(\n",
      "/uufs/chpc.utah.edu/sys/installdir/r8/python/3.12.4/lib/python3.12/site-packages/sklearn/neural_network/_multilayer_perceptron.py:690: ConvergenceWarning: Stochastic Optimizer: Maximum iterations (200) reached and the optimization hasn't converged yet.\n",
      "  warnings.warn(\n",
      "/uufs/chpc.utah.edu/sys/installdir/r8/python/3.12.4/lib/python3.12/site-packages/sklearn/neural_network/_multilayer_perceptron.py:690: ConvergenceWarning: Stochastic Optimizer: Maximum iterations (200) reached and the optimization hasn't converged yet.\n",
      "  warnings.warn(\n",
      "/uufs/chpc.utah.edu/sys/installdir/r8/python/3.12.4/lib/python3.12/site-packages/sklearn/neural_network/_multilayer_perceptron.py:690: ConvergenceWarning: Stochastic Optimizer: Maximum iterations (200) reached and the optimization hasn't converged yet.\n",
      "  warnings.warn(\n",
      "/uufs/chpc.utah.edu/sys/installdir/r8/python/3.12.4/lib/python3.12/site-packages/sklearn/neural_network/_multilayer_perceptron.py:690: ConvergenceWarning: Stochastic Optimizer: Maximum iterations (200) reached and the optimization hasn't converged yet.\n",
      "  warnings.warn(\n",
      "/uufs/chpc.utah.edu/sys/installdir/r8/python/3.12.4/lib/python3.12/site-packages/sklearn/neural_network/_multilayer_perceptron.py:690: ConvergenceWarning: Stochastic Optimizer: Maximum iterations (200) reached and the optimization hasn't converged yet.\n",
      "  warnings.warn(\n",
      "/uufs/chpc.utah.edu/sys/installdir/r8/python/3.12.4/lib/python3.12/site-packages/sklearn/neural_network/_multilayer_perceptron.py:690: ConvergenceWarning: Stochastic Optimizer: Maximum iterations (200) reached and the optimization hasn't converged yet.\n",
      "  warnings.warn(\n",
      "/uufs/chpc.utah.edu/sys/installdir/r8/python/3.12.4/lib/python3.12/site-packages/sklearn/neural_network/_multilayer_perceptron.py:690: ConvergenceWarning: Stochastic Optimizer: Maximum iterations (200) reached and the optimization hasn't converged yet.\n",
      "  warnings.warn(\n",
      "/uufs/chpc.utah.edu/sys/installdir/r8/python/3.12.4/lib/python3.12/site-packages/sklearn/neural_network/_multilayer_perceptron.py:690: ConvergenceWarning: Stochastic Optimizer: Maximum iterations (200) reached and the optimization hasn't converged yet.\n",
      "  warnings.warn(\n",
      "/uufs/chpc.utah.edu/sys/installdir/r8/python/3.12.4/lib/python3.12/site-packages/sklearn/neural_network/_multilayer_perceptron.py:690: ConvergenceWarning: Stochastic Optimizer: Maximum iterations (200) reached and the optimization hasn't converged yet.\n",
      "  warnings.warn(\n",
      "/uufs/chpc.utah.edu/sys/installdir/r8/python/3.12.4/lib/python3.12/site-packages/sklearn/neural_network/_multilayer_perceptron.py:690: ConvergenceWarning: Stochastic Optimizer: Maximum iterations (200) reached and the optimization hasn't converged yet.\n",
      "  warnings.warn(\n",
      "/uufs/chpc.utah.edu/sys/installdir/r8/python/3.12.4/lib/python3.12/site-packages/sklearn/neural_network/_multilayer_perceptron.py:690: ConvergenceWarning: Stochastic Optimizer: Maximum iterations (200) reached and the optimization hasn't converged yet.\n",
      "  warnings.warn(\n",
      "/uufs/chpc.utah.edu/sys/installdir/r8/python/3.12.4/lib/python3.12/site-packages/sklearn/neural_network/_multilayer_perceptron.py:690: ConvergenceWarning: Stochastic Optimizer: Maximum iterations (200) reached and the optimization hasn't converged yet.\n",
      "  warnings.warn(\n",
      "/uufs/chpc.utah.edu/sys/installdir/r8/python/3.12.4/lib/python3.12/site-packages/sklearn/neural_network/_multilayer_perceptron.py:690: ConvergenceWarning: Stochastic Optimizer: Maximum iterations (200) reached and the optimization hasn't converged yet.\n",
      "  warnings.warn(\n",
      "/uufs/chpc.utah.edu/sys/installdir/r8/python/3.12.4/lib/python3.12/site-packages/sklearn/neural_network/_multilayer_perceptron.py:690: ConvergenceWarning: Stochastic Optimizer: Maximum iterations (200) reached and the optimization hasn't converged yet.\n",
      "  warnings.warn(\n",
      "/uufs/chpc.utah.edu/sys/installdir/r8/python/3.12.4/lib/python3.12/site-packages/sklearn/neural_network/_multilayer_perceptron.py:690: ConvergenceWarning: Stochastic Optimizer: Maximum iterations (200) reached and the optimization hasn't converged yet.\n",
      "  warnings.warn(\n",
      "/uufs/chpc.utah.edu/sys/installdir/r8/python/3.12.4/lib/python3.12/site-packages/sklearn/neural_network/_multilayer_perceptron.py:690: ConvergenceWarning: Stochastic Optimizer: Maximum iterations (200) reached and the optimization hasn't converged yet.\n",
      "  warnings.warn(\n"
     ]
    },
    {
     "name": "stdout",
     "output_type": "stream",
     "text": [
      "Best Parameters: {'hidden_layer_sizes': (298, 240)}\n",
      "Confusion Matrix:\n",
      "[[33  3]\n",
      " [11 13]]\n",
      "\n",
      "Accuracy Score:0.7666666666666667\n"
     ]
    }
   ],
   "source": [
    "#I am going to re-use the steps from the earlier MLP problem and re-tune the model since the training data has been transformed\n",
    "\n",
    "mlp = MLPClassifier() #initalize MLP classifier\n",
    "\n",
    "#create dictionary for hyperparameter tuning\n",
    "params = { 'hidden_layer_sizes': [(np.random.randint(100, 300), np.random.randint(100, 300)) for _ in range(40)]} #use numpy random int generator to get 40 combinations of the units (100-299) for each of the two hidden layers\n",
    "\n",
    "random_search = RandomizedSearchCV(mlp, param_distributions = params) #initalize random search for tuning\n",
    "random_search.fit(X_train_pca, y_train) #fit on training set\n",
    "\n",
    "print(\"Best Parameters:\", random_search.best_params_) #print best parameters\n",
    "\n",
    "mlp_best = random_search.best_estimator_ #re-initalize model with tuned parameters\n",
    "y_pred = mlp_best.predict(X_test_pca) #test on unseen data\n",
    "\n",
    "print(\"Confusion Matrix:\")\n",
    "print(confusion_matrix(y_test, y_pred)) #print CM\n",
    "print()\n",
    "print(f\"Accuracy Score:{accuracy_score(y_test, y_pred)}\")"
   ]
  },
  {
   "cell_type": "markdown",
   "metadata": {},
   "source": [
    "I appears to have a slightly higher accuarcy with PCA transformation! But still nothing to write home about."
   ]
  }
 ],
 "metadata": {
  "kernelspec": {
   "display_name": "Python 3 (ipykernel)",
   "language": "python",
   "name": "python3"
  },
  "language_info": {
   "codemirror_mode": {
    "name": "ipython",
    "version": 3
   },
   "file_extension": ".py",
   "mimetype": "text/x-python",
   "name": "python",
   "nbconvert_exporter": "python",
   "pygments_lexer": "ipython3",
   "version": "3.12.4"
  },
  "vscode": {
   "interpreter": {
    "hash": "0c4ab92bbc10d18b480eb40b47e751a2f458ae1b2b88576453c716fde62785ad"
   }
  }
 },
 "nbformat": 4,
 "nbformat_minor": 4
}
